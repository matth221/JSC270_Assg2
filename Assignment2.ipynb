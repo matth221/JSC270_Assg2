{
  "nbformat": 4,
  "nbformat_minor": 0,
  "metadata": {
    "colab": {
      "name": "Assignment2.ipynb",
      "provenance": [],
      "collapsed_sections": []
    },
    "kernelspec": {
      "name": "python3",
      "display_name": "Python 3"
    }
  },
  "cells": [
    {
      "cell_type": "markdown",
      "metadata": {
        "id": "Dx3JcBg8VZ-a"
      },
      "source": [
        "###Libraries you'll likely need"
      ]
    },
    {
      "cell_type": "code",
      "metadata": {
        "id": "3I79uCwE3Sq8",
        "colab": {
          "base_uri": "https://localhost:8080/"
        },
        "outputId": "702d6298-a804-4981-cb5c-b037e5a25c02"
      },
      "source": [
        "import pandas as pd\r\n",
        "import numpy as np\r\n",
        "import matplotlib.pyplot as plt\r\n",
        "import seaborn as sns\r\n",
        "from scipy import stats\r\n",
        "import statsmodels.api as sm\r\n",
        "import statsmodels.formula.api as smf"
      ],
      "execution_count": 3,
      "outputs": [
        {
          "output_type": "stream",
          "text": [
            "/usr/local/lib/python3.6/dist-packages/statsmodels/tools/_testing.py:19: FutureWarning: pandas.util.testing is deprecated. Use the functions in the public API at pandas.testing instead.\n",
            "  import pandas.util.testing as tm\n"
          ],
          "name": "stderr"
        }
      ]
    },
    {
      "cell_type": "markdown",
      "metadata": {
        "id": "9U0oB7HfVZ3g"
      },
      "source": [
        ""
      ]
    },
    {
      "cell_type": "markdown",
      "metadata": {
        "id": "X0oR7u9m-wO6"
      },
      "source": [
        "###Importing data"
      ]
    },
    {
      "cell_type": "code",
      "metadata": {
        "id": "f3jscp2H3Yqm"
      },
      "source": [
        "income94 = pd.read_csv('https://archive.ics.uci.edu/ml/machine-learning-databases/adult/adult.data', header=None)\r\n",
        "income94.columns = ['age','workclass', 'fnlwgt','education','education_num','marital_status','occupation',\r\n",
        "                    'relationship','race','sex','capital_gain','capital_loss','hours_per_week','native_country','gross_income_group']"
      ],
      "execution_count": 4,
      "outputs": []
    },
    {
      "cell_type": "code",
      "metadata": {
        "colab": {
          "base_uri": "https://localhost:8080/"
        },
        "id": "XDe29Dcwj02v",
        "outputId": "fcc03c8d-cb85-4b0e-c7c3-d2501ca9f506"
      },
      "source": [
        "# Most comments and explanation are given in the pdf file.\r\n",
        "income94.info()"
      ],
      "execution_count": 4,
      "outputs": [
        {
          "output_type": "stream",
          "text": [
            "<class 'pandas.core.frame.DataFrame'>\n",
            "RangeIndex: 32561 entries, 0 to 32560\n",
            "Data columns (total 15 columns):\n",
            " #   Column              Non-Null Count  Dtype \n",
            "---  ------              --------------  ----- \n",
            " 0   age                 32561 non-null  int64 \n",
            " 1   workclass           32561 non-null  object\n",
            " 2   fnlwgt              32561 non-null  int64 \n",
            " 3   education           32561 non-null  object\n",
            " 4   education_num       32561 non-null  int64 \n",
            " 5   marital_status      32561 non-null  object\n",
            " 6   occupation          32561 non-null  object\n",
            " 7   relationship        32561 non-null  object\n",
            " 8   race                32561 non-null  object\n",
            " 9   sex                 32561 non-null  object\n",
            " 10  capital_gain        32561 non-null  int64 \n",
            " 11  capital_loss        32561 non-null  int64 \n",
            " 12  hours_per_week      32561 non-null  int64 \n",
            " 13  native_country      32561 non-null  object\n",
            " 14  gross_income_group  32561 non-null  object\n",
            "dtypes: int64(6), object(9)\n",
            "memory usage: 3.7+ MB\n"
          ],
          "name": "stdout"
        }
      ]
    },
    {
      "cell_type": "code",
      "metadata": {
        "id": "Afs7NnNirdid",
        "colab": {
          "base_uri": "https://localhost:8080/",
          "height": 285
        },
        "outputId": "3a7eee7b-a78b-469c-eeda-b2641a20073b"
      },
      "source": [
        "income94.head()"
      ],
      "execution_count": 5,
      "outputs": [
        {
          "output_type": "execute_result",
          "data": {
            "text/html": [
              "<div>\n",
              "<style scoped>\n",
              "    .dataframe tbody tr th:only-of-type {\n",
              "        vertical-align: middle;\n",
              "    }\n",
              "\n",
              "    .dataframe tbody tr th {\n",
              "        vertical-align: top;\n",
              "    }\n",
              "\n",
              "    .dataframe thead th {\n",
              "        text-align: right;\n",
              "    }\n",
              "</style>\n",
              "<table border=\"1\" class=\"dataframe\">\n",
              "  <thead>\n",
              "    <tr style=\"text-align: right;\">\n",
              "      <th></th>\n",
              "      <th>age</th>\n",
              "      <th>workclass</th>\n",
              "      <th>fnlwgt</th>\n",
              "      <th>education</th>\n",
              "      <th>education_num</th>\n",
              "      <th>marital_status</th>\n",
              "      <th>occupation</th>\n",
              "      <th>relationship</th>\n",
              "      <th>race</th>\n",
              "      <th>sex</th>\n",
              "      <th>capital_gain</th>\n",
              "      <th>capital_loss</th>\n",
              "      <th>hours_per_week</th>\n",
              "      <th>native_country</th>\n",
              "      <th>gross_income_group</th>\n",
              "    </tr>\n",
              "  </thead>\n",
              "  <tbody>\n",
              "    <tr>\n",
              "      <th>0</th>\n",
              "      <td>39</td>\n",
              "      <td>State-gov</td>\n",
              "      <td>77516</td>\n",
              "      <td>Bachelors</td>\n",
              "      <td>13</td>\n",
              "      <td>Never-married</td>\n",
              "      <td>Adm-clerical</td>\n",
              "      <td>Not-in-family</td>\n",
              "      <td>White</td>\n",
              "      <td>Male</td>\n",
              "      <td>2174</td>\n",
              "      <td>0</td>\n",
              "      <td>40</td>\n",
              "      <td>United-States</td>\n",
              "      <td>&lt;=50K</td>\n",
              "    </tr>\n",
              "    <tr>\n",
              "      <th>1</th>\n",
              "      <td>50</td>\n",
              "      <td>Self-emp-not-inc</td>\n",
              "      <td>83311</td>\n",
              "      <td>Bachelors</td>\n",
              "      <td>13</td>\n",
              "      <td>Married-civ-spouse</td>\n",
              "      <td>Exec-managerial</td>\n",
              "      <td>Husband</td>\n",
              "      <td>White</td>\n",
              "      <td>Male</td>\n",
              "      <td>0</td>\n",
              "      <td>0</td>\n",
              "      <td>13</td>\n",
              "      <td>United-States</td>\n",
              "      <td>&lt;=50K</td>\n",
              "    </tr>\n",
              "    <tr>\n",
              "      <th>2</th>\n",
              "      <td>38</td>\n",
              "      <td>Private</td>\n",
              "      <td>215646</td>\n",
              "      <td>HS-grad</td>\n",
              "      <td>9</td>\n",
              "      <td>Divorced</td>\n",
              "      <td>Handlers-cleaners</td>\n",
              "      <td>Not-in-family</td>\n",
              "      <td>White</td>\n",
              "      <td>Male</td>\n",
              "      <td>0</td>\n",
              "      <td>0</td>\n",
              "      <td>40</td>\n",
              "      <td>United-States</td>\n",
              "      <td>&lt;=50K</td>\n",
              "    </tr>\n",
              "    <tr>\n",
              "      <th>3</th>\n",
              "      <td>53</td>\n",
              "      <td>Private</td>\n",
              "      <td>234721</td>\n",
              "      <td>11th</td>\n",
              "      <td>7</td>\n",
              "      <td>Married-civ-spouse</td>\n",
              "      <td>Handlers-cleaners</td>\n",
              "      <td>Husband</td>\n",
              "      <td>Black</td>\n",
              "      <td>Male</td>\n",
              "      <td>0</td>\n",
              "      <td>0</td>\n",
              "      <td>40</td>\n",
              "      <td>United-States</td>\n",
              "      <td>&lt;=50K</td>\n",
              "    </tr>\n",
              "    <tr>\n",
              "      <th>4</th>\n",
              "      <td>28</td>\n",
              "      <td>Private</td>\n",
              "      <td>338409</td>\n",
              "      <td>Bachelors</td>\n",
              "      <td>13</td>\n",
              "      <td>Married-civ-spouse</td>\n",
              "      <td>Prof-specialty</td>\n",
              "      <td>Wife</td>\n",
              "      <td>Black</td>\n",
              "      <td>Female</td>\n",
              "      <td>0</td>\n",
              "      <td>0</td>\n",
              "      <td>40</td>\n",
              "      <td>Cuba</td>\n",
              "      <td>&lt;=50K</td>\n",
              "    </tr>\n",
              "  </tbody>\n",
              "</table>\n",
              "</div>"
            ],
            "text/plain": [
              "   age          workclass  ...  native_country gross_income_group\n",
              "0   39          State-gov  ...   United-States              <=50K\n",
              "1   50   Self-emp-not-inc  ...   United-States              <=50K\n",
              "2   38            Private  ...   United-States              <=50K\n",
              "3   53            Private  ...   United-States              <=50K\n",
              "4   28            Private  ...            Cuba              <=50K\n",
              "\n",
              "[5 rows x 15 columns]"
            ]
          },
          "metadata": {
            "tags": []
          },
          "execution_count": 5
        }
      ]
    },
    {
      "cell_type": "code",
      "metadata": {
        "colab": {
          "base_uri": "https://localhost:8080/",
          "height": 543
        },
        "id": "7EO57UI9auLF",
        "outputId": "5481927e-bf68-42ed-b336-501c9cb34b7b"
      },
      "source": [
        "# Replacing missing values from \" ?\" to become np.nan\r\n",
        "income94 = income94.replace(\" ?\", np.nan)\r\n",
        "income94"
      ],
      "execution_count": 6,
      "outputs": [
        {
          "output_type": "execute_result",
          "data": {
            "text/html": [
              "<div>\n",
              "<style scoped>\n",
              "    .dataframe tbody tr th:only-of-type {\n",
              "        vertical-align: middle;\n",
              "    }\n",
              "\n",
              "    .dataframe tbody tr th {\n",
              "        vertical-align: top;\n",
              "    }\n",
              "\n",
              "    .dataframe thead th {\n",
              "        text-align: right;\n",
              "    }\n",
              "</style>\n",
              "<table border=\"1\" class=\"dataframe\">\n",
              "  <thead>\n",
              "    <tr style=\"text-align: right;\">\n",
              "      <th></th>\n",
              "      <th>age</th>\n",
              "      <th>workclass</th>\n",
              "      <th>fnlwgt</th>\n",
              "      <th>education</th>\n",
              "      <th>education_num</th>\n",
              "      <th>marital_status</th>\n",
              "      <th>occupation</th>\n",
              "      <th>relationship</th>\n",
              "      <th>race</th>\n",
              "      <th>sex</th>\n",
              "      <th>capital_gain</th>\n",
              "      <th>capital_loss</th>\n",
              "      <th>hours_per_week</th>\n",
              "      <th>native_country</th>\n",
              "      <th>gross_income_group</th>\n",
              "    </tr>\n",
              "  </thead>\n",
              "  <tbody>\n",
              "    <tr>\n",
              "      <th>0</th>\n",
              "      <td>39</td>\n",
              "      <td>State-gov</td>\n",
              "      <td>77516</td>\n",
              "      <td>Bachelors</td>\n",
              "      <td>13</td>\n",
              "      <td>Never-married</td>\n",
              "      <td>Adm-clerical</td>\n",
              "      <td>Not-in-family</td>\n",
              "      <td>White</td>\n",
              "      <td>Male</td>\n",
              "      <td>2174</td>\n",
              "      <td>0</td>\n",
              "      <td>40</td>\n",
              "      <td>United-States</td>\n",
              "      <td>&lt;=50K</td>\n",
              "    </tr>\n",
              "    <tr>\n",
              "      <th>1</th>\n",
              "      <td>50</td>\n",
              "      <td>Self-emp-not-inc</td>\n",
              "      <td>83311</td>\n",
              "      <td>Bachelors</td>\n",
              "      <td>13</td>\n",
              "      <td>Married-civ-spouse</td>\n",
              "      <td>Exec-managerial</td>\n",
              "      <td>Husband</td>\n",
              "      <td>White</td>\n",
              "      <td>Male</td>\n",
              "      <td>0</td>\n",
              "      <td>0</td>\n",
              "      <td>13</td>\n",
              "      <td>United-States</td>\n",
              "      <td>&lt;=50K</td>\n",
              "    </tr>\n",
              "    <tr>\n",
              "      <th>2</th>\n",
              "      <td>38</td>\n",
              "      <td>Private</td>\n",
              "      <td>215646</td>\n",
              "      <td>HS-grad</td>\n",
              "      <td>9</td>\n",
              "      <td>Divorced</td>\n",
              "      <td>Handlers-cleaners</td>\n",
              "      <td>Not-in-family</td>\n",
              "      <td>White</td>\n",
              "      <td>Male</td>\n",
              "      <td>0</td>\n",
              "      <td>0</td>\n",
              "      <td>40</td>\n",
              "      <td>United-States</td>\n",
              "      <td>&lt;=50K</td>\n",
              "    </tr>\n",
              "    <tr>\n",
              "      <th>3</th>\n",
              "      <td>53</td>\n",
              "      <td>Private</td>\n",
              "      <td>234721</td>\n",
              "      <td>11th</td>\n",
              "      <td>7</td>\n",
              "      <td>Married-civ-spouse</td>\n",
              "      <td>Handlers-cleaners</td>\n",
              "      <td>Husband</td>\n",
              "      <td>Black</td>\n",
              "      <td>Male</td>\n",
              "      <td>0</td>\n",
              "      <td>0</td>\n",
              "      <td>40</td>\n",
              "      <td>United-States</td>\n",
              "      <td>&lt;=50K</td>\n",
              "    </tr>\n",
              "    <tr>\n",
              "      <th>4</th>\n",
              "      <td>28</td>\n",
              "      <td>Private</td>\n",
              "      <td>338409</td>\n",
              "      <td>Bachelors</td>\n",
              "      <td>13</td>\n",
              "      <td>Married-civ-spouse</td>\n",
              "      <td>Prof-specialty</td>\n",
              "      <td>Wife</td>\n",
              "      <td>Black</td>\n",
              "      <td>Female</td>\n",
              "      <td>0</td>\n",
              "      <td>0</td>\n",
              "      <td>40</td>\n",
              "      <td>Cuba</td>\n",
              "      <td>&lt;=50K</td>\n",
              "    </tr>\n",
              "    <tr>\n",
              "      <th>...</th>\n",
              "      <td>...</td>\n",
              "      <td>...</td>\n",
              "      <td>...</td>\n",
              "      <td>...</td>\n",
              "      <td>...</td>\n",
              "      <td>...</td>\n",
              "      <td>...</td>\n",
              "      <td>...</td>\n",
              "      <td>...</td>\n",
              "      <td>...</td>\n",
              "      <td>...</td>\n",
              "      <td>...</td>\n",
              "      <td>...</td>\n",
              "      <td>...</td>\n",
              "      <td>...</td>\n",
              "    </tr>\n",
              "    <tr>\n",
              "      <th>32556</th>\n",
              "      <td>27</td>\n",
              "      <td>Private</td>\n",
              "      <td>257302</td>\n",
              "      <td>Assoc-acdm</td>\n",
              "      <td>12</td>\n",
              "      <td>Married-civ-spouse</td>\n",
              "      <td>Tech-support</td>\n",
              "      <td>Wife</td>\n",
              "      <td>White</td>\n",
              "      <td>Female</td>\n",
              "      <td>0</td>\n",
              "      <td>0</td>\n",
              "      <td>38</td>\n",
              "      <td>United-States</td>\n",
              "      <td>&lt;=50K</td>\n",
              "    </tr>\n",
              "    <tr>\n",
              "      <th>32557</th>\n",
              "      <td>40</td>\n",
              "      <td>Private</td>\n",
              "      <td>154374</td>\n",
              "      <td>HS-grad</td>\n",
              "      <td>9</td>\n",
              "      <td>Married-civ-spouse</td>\n",
              "      <td>Machine-op-inspct</td>\n",
              "      <td>Husband</td>\n",
              "      <td>White</td>\n",
              "      <td>Male</td>\n",
              "      <td>0</td>\n",
              "      <td>0</td>\n",
              "      <td>40</td>\n",
              "      <td>United-States</td>\n",
              "      <td>&gt;50K</td>\n",
              "    </tr>\n",
              "    <tr>\n",
              "      <th>32558</th>\n",
              "      <td>58</td>\n",
              "      <td>Private</td>\n",
              "      <td>151910</td>\n",
              "      <td>HS-grad</td>\n",
              "      <td>9</td>\n",
              "      <td>Widowed</td>\n",
              "      <td>Adm-clerical</td>\n",
              "      <td>Unmarried</td>\n",
              "      <td>White</td>\n",
              "      <td>Female</td>\n",
              "      <td>0</td>\n",
              "      <td>0</td>\n",
              "      <td>40</td>\n",
              "      <td>United-States</td>\n",
              "      <td>&lt;=50K</td>\n",
              "    </tr>\n",
              "    <tr>\n",
              "      <th>32559</th>\n",
              "      <td>22</td>\n",
              "      <td>Private</td>\n",
              "      <td>201490</td>\n",
              "      <td>HS-grad</td>\n",
              "      <td>9</td>\n",
              "      <td>Never-married</td>\n",
              "      <td>Adm-clerical</td>\n",
              "      <td>Own-child</td>\n",
              "      <td>White</td>\n",
              "      <td>Male</td>\n",
              "      <td>0</td>\n",
              "      <td>0</td>\n",
              "      <td>20</td>\n",
              "      <td>United-States</td>\n",
              "      <td>&lt;=50K</td>\n",
              "    </tr>\n",
              "    <tr>\n",
              "      <th>32560</th>\n",
              "      <td>52</td>\n",
              "      <td>Self-emp-inc</td>\n",
              "      <td>287927</td>\n",
              "      <td>HS-grad</td>\n",
              "      <td>9</td>\n",
              "      <td>Married-civ-spouse</td>\n",
              "      <td>Exec-managerial</td>\n",
              "      <td>Wife</td>\n",
              "      <td>White</td>\n",
              "      <td>Female</td>\n",
              "      <td>15024</td>\n",
              "      <td>0</td>\n",
              "      <td>40</td>\n",
              "      <td>United-States</td>\n",
              "      <td>&gt;50K</td>\n",
              "    </tr>\n",
              "  </tbody>\n",
              "</table>\n",
              "<p>32561 rows × 15 columns</p>\n",
              "</div>"
            ],
            "text/plain": [
              "       age          workclass  ...  native_country gross_income_group\n",
              "0       39          State-gov  ...   United-States              <=50K\n",
              "1       50   Self-emp-not-inc  ...   United-States              <=50K\n",
              "2       38            Private  ...   United-States              <=50K\n",
              "3       53            Private  ...   United-States              <=50K\n",
              "4       28            Private  ...            Cuba              <=50K\n",
              "...    ...                ...  ...             ...                ...\n",
              "32556   27            Private  ...   United-States              <=50K\n",
              "32557   40            Private  ...   United-States               >50K\n",
              "32558   58            Private  ...   United-States              <=50K\n",
              "32559   22            Private  ...   United-States              <=50K\n",
              "32560   52       Self-emp-inc  ...   United-States               >50K\n",
              "\n",
              "[32561 rows x 15 columns]"
            ]
          },
          "metadata": {
            "tags": []
          },
          "execution_count": 6
        }
      ]
    },
    {
      "cell_type": "code",
      "metadata": {
        "colab": {
          "base_uri": "https://localhost:8080/"
        },
        "id": "ssjmzJFnfH2R",
        "outputId": "223e369a-0f63-4015-b8ed-dd16dc25c854"
      },
      "source": [
        "income94.info()"
      ],
      "execution_count": 7,
      "outputs": [
        {
          "output_type": "stream",
          "text": [
            "<class 'pandas.core.frame.DataFrame'>\n",
            "RangeIndex: 32561 entries, 0 to 32560\n",
            "Data columns (total 15 columns):\n",
            " #   Column              Non-Null Count  Dtype \n",
            "---  ------              --------------  ----- \n",
            " 0   age                 32561 non-null  int64 \n",
            " 1   workclass           30725 non-null  object\n",
            " 2   fnlwgt              32561 non-null  int64 \n",
            " 3   education           32561 non-null  object\n",
            " 4   education_num       32561 non-null  int64 \n",
            " 5   marital_status      32561 non-null  object\n",
            " 6   occupation          30718 non-null  object\n",
            " 7   relationship        32561 non-null  object\n",
            " 8   race                32561 non-null  object\n",
            " 9   sex                 32561 non-null  object\n",
            " 10  capital_gain        32561 non-null  int64 \n",
            " 11  capital_loss        32561 non-null  int64 \n",
            " 12  hours_per_week      32561 non-null  int64 \n",
            " 13  native_country      31978 non-null  object\n",
            " 14  gross_income_group  32561 non-null  object\n",
            "dtypes: int64(6), object(9)\n",
            "memory usage: 3.7+ MB\n"
          ],
          "name": "stdout"
        }
      ]
    },
    {
      "cell_type": "code",
      "metadata": {
        "colab": {
          "base_uri": "https://localhost:8080/"
        },
        "id": "nuHUIXYPVwgr",
        "outputId": "423fd66e-cd01-4e8f-8c2a-c91851be4802"
      },
      "source": [
        "# Replacing zero values in the capital gains/losses to become nan\r\n",
        "income94 = income94.replace(0, np.nan)\r\n",
        "income94.info()"
      ],
      "execution_count": 8,
      "outputs": [
        {
          "output_type": "stream",
          "text": [
            "<class 'pandas.core.frame.DataFrame'>\n",
            "RangeIndex: 32561 entries, 0 to 32560\n",
            "Data columns (total 15 columns):\n",
            " #   Column              Non-Null Count  Dtype  \n",
            "---  ------              --------------  -----  \n",
            " 0   age                 32561 non-null  int64  \n",
            " 1   workclass           30725 non-null  object \n",
            " 2   fnlwgt              32561 non-null  int64  \n",
            " 3   education           32561 non-null  object \n",
            " 4   education_num       32561 non-null  int64  \n",
            " 5   marital_status      32561 non-null  object \n",
            " 6   occupation          30718 non-null  object \n",
            " 7   relationship        32561 non-null  object \n",
            " 8   race                32561 non-null  object \n",
            " 9   sex                 32561 non-null  object \n",
            " 10  capital_gain        2712 non-null   float64\n",
            " 11  capital_loss        1519 non-null   float64\n",
            " 12  hours_per_week      32561 non-null  int64  \n",
            " 13  native_country      31978 non-null  object \n",
            " 14  gross_income_group  32561 non-null  object \n",
            "dtypes: float64(2), int64(4), object(9)\n",
            "memory usage: 3.7+ MB\n"
          ],
          "name": "stdout"
        }
      ]
    },
    {
      "cell_type": "code",
      "metadata": {
        "colab": {
          "base_uri": "https://localhost:8080/",
          "height": 431
        },
        "id": "Udsqvw8yiTOT",
        "outputId": "79bcf447-3884-4712-d9e4-41c19e258125"
      },
      "source": [
        "# comment out the plots when not needed using Ctrl + /\r\n",
        "fig, (plt1, plt2) = plt.subplots(1, 2)\r\n",
        "plt1.hist(income94.capital_gain, bins = 8)\r\n",
        "plt1.hist(income94.capital_gain, bins = 15)\r\n",
        "plt2.hist(income94.capital_loss, bins = 8)\r\n",
        "plt2.hist(income94.capital_loss, bins = 15)\r\n",
        "fig.suptitle('Histogram of Capital_gain and Capital_loss')\r\n",
        "fig.set_size_inches(12, 6)\r\n",
        "plt.xlabel(\"US Dollars\")\r\n",
        "plt.ylabel('Relative Frequency')\r\n",
        "plt.show()"
      ],
      "execution_count": 9,
      "outputs": [
        {
          "output_type": "display_data",
          "data": {
            "image/png": "[encoded data removed]",
            "text/plain": [
              "<Figure size 864x432 with 2 Axes>"
            ]
          },
          "metadata": {
            "tags": [],
            "needs_background": "light"
          }
        }
      ]
    },
    {
      "cell_type": "code",
      "metadata": {
        "colab": {
          "base_uri": "https://localhost:8080/",
          "height": 431
        },
        "id": "rGCw8oW8kkD2",
        "outputId": "6d92c645-993c-47cc-c00e-23acfef253e8"
      },
      "source": [
        "# comment out the plots when not needed using Ctrl + /\r\n",
        "fig, (plt1, plt2) = plt.subplots(1, 2)\r\n",
        "# plt1 is better with log function\r\n",
        "plt1.hist(np.log(income94.capital_gain), bins = 8)\r\n",
        "plt1.hist(np.log(income94.capital_gain), bins = 15)\r\n",
        "# plt2 is better without log/power function.\r\n",
        "plt2.hist((income94.capital_loss), bins = 8)\r\n",
        "plt2.hist((income94.capital_loss), bins = 15)\r\n",
        "fig.suptitle('Histogram of Capital_gain log_value and Capital_loss')\r\n",
        "fig.set_size_inches(12, 6)\r\n",
        "plt.xlabel(\"US Dollars\")\r\n",
        "plt.ylabel('Relative Frequency')\r\n",
        "plt.show()"
      ],
      "execution_count": 10,
      "outputs": [
        {
          "output_type": "display_data",
          "data": {
            "image/png": "[encoded data removed]",
            "text/plain": [
              "<Figure size 864x432 with 2 Axes>"
            ]
          },
          "metadata": {
            "tags": [],
            "needs_background": "light"
          }
        }
      ]
    },
    {
      "cell_type": "code",
      "metadata": {
        "colab": {
          "base_uri": "https://localhost:8080/",
          "height": 573
        },
        "id": "8llLkNQ9W5Lz",
        "outputId": "73da4c93-5048-4552-dca3-4b9aa92af087"
      },
      "source": [
        "# comment out the plots when not needed using Ctrl + /\r\n",
        "plt.hist(income94.fnlwgt / 1e5, bins = 10)\r\n",
        "plt.hist(income94.fnlwgt / 1e5, bins = 20)\r\n",
        "plt.hist(income94.fnlwgt / 1e5, bins = 40)\r\n",
        "plt.title('Histogram of fnlwgt')\r\n",
        "plt.xlabel('fnlwgt / 1e5')\r\n",
        "plt.ylabel('Relative Frequency')\r\n",
        "plt.show()\r\n",
        "\r\n",
        "sns.boxplot(x = 'fnlwgt', data = income94)\r\n",
        "plt.title('Box and Whiskers Plot of fnlwgt')\r\n",
        "plt.show()"
      ],
      "execution_count": 11,
      "outputs": [
        {
          "output_type": "display_data",
          "data": {
            "image/png": "[encoded data removed]",
            "text/plain": [
              "<Figure size 432x288 with 1 Axes>"
            ]
          },
          "metadata": {
            "tags": [],
            "needs_background": "light"
          }
        },
        {
          "output_type": "display_data",
          "data": {
            "image/png": "[encoded data removed]",
            "text/plain": [
              "<Figure size 432x288 with 1 Axes>"
            ]
          },
          "metadata": {
            "tags": [],
            "needs_background": "light"
          }
        }
      ]
    },
    {
      "cell_type": "code",
      "metadata": {
        "colab": {
          "base_uri": "https://localhost:8080/"
        },
        "id": "QSmX0eveYGYZ",
        "outputId": "71a3c8e4-c2e2-42f3-9d1c-960ee2ce6818"
      },
      "source": [
        "# function to get and we will remove outliers by setting it to nan.\r\n",
        "def get_outliers(variable, df):\r\n",
        "  firstquart = df[variable].quantile(q=0.25)\r\n",
        "  thirdquart = df[variable].quantile(q=0.75)\r\n",
        "  iqr = thirdquart - firstquart\r\n",
        "  lower_whisker = firstquart - 1.51*iqr\r\n",
        "  upper_whisker = thirdquart + 1.51*iqr\r\n",
        "  outliers = df[(df[variable] >= upper_whisker) | (df[variable] <= lower_whisker)]\r\n",
        "  return outliers\r\n",
        "outliers = get_outliers('fnlwgt', income94)\r\n",
        "income94['fnlwgt'].loc[outliers.index] = np.nan"
      ],
      "execution_count": 16,
      "outputs": [
        {
          "output_type": "stream",
          "text": [
            "/usr/local/lib/python3.6/dist-packages/pandas/core/indexing.py:670: SettingWithCopyWarning: \n",
            "A value is trying to be set on a copy of a slice from a DataFrame\n",
            "\n",
            "See the caveats in the documentation: https://pandas.pydata.org/pandas-docs/stable/user_guide/indexing.html#returning-a-view-versus-a-copy\n",
            "  iloc._setitem_with_indexer(indexer, value)\n"
          ],
          "name": "stderr"
        }
      ]
    },
    {
      "cell_type": "code",
      "metadata": {
        "colab": {
          "base_uri": "https://localhost:8080/",
          "height": 573
        },
        "id": "NQp1xfWlfAFQ",
        "outputId": "f3a64e73-7727-491e-f921-3bca6e1a347b"
      },
      "source": [
        "# comment out the plots when not needed using Ctrl + /\r\n",
        "plt.hist(income94.fnlwgt / 1e5, bins = 10)\r\n",
        "plt.hist(income94.fnlwgt / 1e5, bins = 20)\r\n",
        "plt.hist(income94.fnlwgt / 1e5, bins = 40)\r\n",
        "plt.hist(income94.fnlwgt / 1e5, bins = 80)\r\n",
        "plt.title('Histogram of fnlwgt')\r\n",
        "plt.xlabel('fnlwgt / 1e5')\r\n",
        "plt.ylabel('Relative Frequency')\r\n",
        "plt.show()\r\n",
        "\r\n",
        "sns.boxplot(x = 'fnlwgt', data = income94)\r\n",
        "plt.title('Box and Whiskers Plot of fnlwgt')\r\n",
        "plt.show()"
      ],
      "execution_count": 17,
      "outputs": [
        {
          "output_type": "display_data",
          "data": {
            "image/png": "[encoded data removed]",
            "text/plain": [
              "<Figure size 432x288 with 1 Axes>"
            ]
          },
          "metadata": {
            "tags": [],
            "needs_background": "light"
          }
        },
        {
          "output_type": "display_data",
          "data": {
            "image/png": "[encoded data removed]",
            "text/plain": [
              "<Figure size 432x288 with 1 Axes>"
            ]
          },
          "metadata": {
            "tags": [],
            "needs_background": "light"
          }
        }
      ]
    },
    {
      "cell_type": "code",
      "metadata": {
        "colab": {
          "base_uri": "https://localhost:8080/",
          "height": 309
        },
        "id": "gVT5-WbClWst",
        "outputId": "aff7634d-133b-470d-b878-0953b2ba4dac"
      },
      "source": [
        "# Gender Counts in the dataset.\r\n",
        "income94[\"sex\"].value_counts().plot(kind = 'bar')\r\n",
        "plt.xlabel('Gender')\r\n",
        "plt.ylabel('Count')\r\n",
        "plt.show()"
      ],
      "execution_count": 18,
      "outputs": [
        {
          "output_type": "display_data",
          "data": {
            "image/png": "[encoded data removed]",
            "text/plain": [
              "<Figure size 432x288 with 1 Axes>"
            ]
          },
          "metadata": {
            "tags": [],
            "needs_background": "light"
          }
        }
      ]
    },
    {
      "cell_type": "code",
      "metadata": {
        "colab": {
          "base_uri": "https://localhost:8080/",
          "height": 576
        },
        "id": "ZVa4qwjIlrUT",
        "outputId": "198cd399-def9-4720-ec64-688204294fef"
      },
      "source": [
        "# creating 2 new datasets for easier use in the future\r\n",
        "income94m = income94[income94.sex == \" Male\"]\r\n",
        "income94f = income94[income94.sex == \" Female\"]\r\n",
        "income94m"
      ],
      "execution_count": 19,
      "outputs": [
        {
          "output_type": "execute_result",
          "data": {
            "text/html": [
              "<div>\n",
              "<style scoped>\n",
              "    .dataframe tbody tr th:only-of-type {\n",
              "        vertical-align: middle;\n",
              "    }\n",
              "\n",
              "    .dataframe tbody tr th {\n",
              "        vertical-align: top;\n",
              "    }\n",
              "\n",
              "    .dataframe thead th {\n",
              "        text-align: right;\n",
              "    }\n",
              "</style>\n",
              "<table border=\"1\" class=\"dataframe\">\n",
              "  <thead>\n",
              "    <tr style=\"text-align: right;\">\n",
              "      <th></th>\n",
              "      <th>age</th>\n",
              "      <th>workclass</th>\n",
              "      <th>fnlwgt</th>\n",
              "      <th>education</th>\n",
              "      <th>education_num</th>\n",
              "      <th>marital_status</th>\n",
              "      <th>occupation</th>\n",
              "      <th>relationship</th>\n",
              "      <th>race</th>\n",
              "      <th>sex</th>\n",
              "      <th>capital_gain</th>\n",
              "      <th>capital_loss</th>\n",
              "      <th>hours_per_week</th>\n",
              "      <th>native_country</th>\n",
              "      <th>gross_income_group</th>\n",
              "    </tr>\n",
              "  </thead>\n",
              "  <tbody>\n",
              "    <tr>\n",
              "      <th>0</th>\n",
              "      <td>39</td>\n",
              "      <td>State-gov</td>\n",
              "      <td>77516.0</td>\n",
              "      <td>Bachelors</td>\n",
              "      <td>13</td>\n",
              "      <td>Never-married</td>\n",
              "      <td>Adm-clerical</td>\n",
              "      <td>Not-in-family</td>\n",
              "      <td>White</td>\n",
              "      <td>Male</td>\n",
              "      <td>2174.0</td>\n",
              "      <td>NaN</td>\n",
              "      <td>40</td>\n",
              "      <td>United-States</td>\n",
              "      <td>&lt;=50K</td>\n",
              "    </tr>\n",
              "    <tr>\n",
              "      <th>1</th>\n",
              "      <td>50</td>\n",
              "      <td>Self-emp-not-inc</td>\n",
              "      <td>83311.0</td>\n",
              "      <td>Bachelors</td>\n",
              "      <td>13</td>\n",
              "      <td>Married-civ-spouse</td>\n",
              "      <td>Exec-managerial</td>\n",
              "      <td>Husband</td>\n",
              "      <td>White</td>\n",
              "      <td>Male</td>\n",
              "      <td>NaN</td>\n",
              "      <td>NaN</td>\n",
              "      <td>13</td>\n",
              "      <td>United-States</td>\n",
              "      <td>&lt;=50K</td>\n",
              "    </tr>\n",
              "    <tr>\n",
              "      <th>2</th>\n",
              "      <td>38</td>\n",
              "      <td>Private</td>\n",
              "      <td>215646.0</td>\n",
              "      <td>HS-grad</td>\n",
              "      <td>9</td>\n",
              "      <td>Divorced</td>\n",
              "      <td>Handlers-cleaners</td>\n",
              "      <td>Not-in-family</td>\n",
              "      <td>White</td>\n",
              "      <td>Male</td>\n",
              "      <td>NaN</td>\n",
              "      <td>NaN</td>\n",
              "      <td>40</td>\n",
              "      <td>United-States</td>\n",
              "      <td>&lt;=50K</td>\n",
              "    </tr>\n",
              "    <tr>\n",
              "      <th>3</th>\n",
              "      <td>53</td>\n",
              "      <td>Private</td>\n",
              "      <td>234721.0</td>\n",
              "      <td>11th</td>\n",
              "      <td>7</td>\n",
              "      <td>Married-civ-spouse</td>\n",
              "      <td>Handlers-cleaners</td>\n",
              "      <td>Husband</td>\n",
              "      <td>Black</td>\n",
              "      <td>Male</td>\n",
              "      <td>NaN</td>\n",
              "      <td>NaN</td>\n",
              "      <td>40</td>\n",
              "      <td>United-States</td>\n",
              "      <td>&lt;=50K</td>\n",
              "    </tr>\n",
              "    <tr>\n",
              "      <th>7</th>\n",
              "      <td>52</td>\n",
              "      <td>Self-emp-not-inc</td>\n",
              "      <td>209642.0</td>\n",
              "      <td>HS-grad</td>\n",
              "      <td>9</td>\n",
              "      <td>Married-civ-spouse</td>\n",
              "      <td>Exec-managerial</td>\n",
              "      <td>Husband</td>\n",
              "      <td>White</td>\n",
              "      <td>Male</td>\n",
              "      <td>NaN</td>\n",
              "      <td>NaN</td>\n",
              "      <td>45</td>\n",
              "      <td>United-States</td>\n",
              "      <td>&gt;50K</td>\n",
              "    </tr>\n",
              "    <tr>\n",
              "      <th>...</th>\n",
              "      <td>...</td>\n",
              "      <td>...</td>\n",
              "      <td>...</td>\n",
              "      <td>...</td>\n",
              "      <td>...</td>\n",
              "      <td>...</td>\n",
              "      <td>...</td>\n",
              "      <td>...</td>\n",
              "      <td>...</td>\n",
              "      <td>...</td>\n",
              "      <td>...</td>\n",
              "      <td>...</td>\n",
              "      <td>...</td>\n",
              "      <td>...</td>\n",
              "      <td>...</td>\n",
              "    </tr>\n",
              "    <tr>\n",
              "      <th>32553</th>\n",
              "      <td>32</td>\n",
              "      <td>Private</td>\n",
              "      <td>116138.0</td>\n",
              "      <td>Masters</td>\n",
              "      <td>14</td>\n",
              "      <td>Never-married</td>\n",
              "      <td>Tech-support</td>\n",
              "      <td>Not-in-family</td>\n",
              "      <td>Asian-Pac-Islander</td>\n",
              "      <td>Male</td>\n",
              "      <td>NaN</td>\n",
              "      <td>NaN</td>\n",
              "      <td>11</td>\n",
              "      <td>Taiwan</td>\n",
              "      <td>&lt;=50K</td>\n",
              "    </tr>\n",
              "    <tr>\n",
              "      <th>32554</th>\n",
              "      <td>53</td>\n",
              "      <td>Private</td>\n",
              "      <td>321865.0</td>\n",
              "      <td>Masters</td>\n",
              "      <td>14</td>\n",
              "      <td>Married-civ-spouse</td>\n",
              "      <td>Exec-managerial</td>\n",
              "      <td>Husband</td>\n",
              "      <td>White</td>\n",
              "      <td>Male</td>\n",
              "      <td>NaN</td>\n",
              "      <td>NaN</td>\n",
              "      <td>40</td>\n",
              "      <td>United-States</td>\n",
              "      <td>&gt;50K</td>\n",
              "    </tr>\n",
              "    <tr>\n",
              "      <th>32555</th>\n",
              "      <td>22</td>\n",
              "      <td>Private</td>\n",
              "      <td>310152.0</td>\n",
              "      <td>Some-college</td>\n",
              "      <td>10</td>\n",
              "      <td>Never-married</td>\n",
              "      <td>Protective-serv</td>\n",
              "      <td>Not-in-family</td>\n",
              "      <td>White</td>\n",
              "      <td>Male</td>\n",
              "      <td>NaN</td>\n",
              "      <td>NaN</td>\n",
              "      <td>40</td>\n",
              "      <td>United-States</td>\n",
              "      <td>&lt;=50K</td>\n",
              "    </tr>\n",
              "    <tr>\n",
              "      <th>32557</th>\n",
              "      <td>40</td>\n",
              "      <td>Private</td>\n",
              "      <td>154374.0</td>\n",
              "      <td>HS-grad</td>\n",
              "      <td>9</td>\n",
              "      <td>Married-civ-spouse</td>\n",
              "      <td>Machine-op-inspct</td>\n",
              "      <td>Husband</td>\n",
              "      <td>White</td>\n",
              "      <td>Male</td>\n",
              "      <td>NaN</td>\n",
              "      <td>NaN</td>\n",
              "      <td>40</td>\n",
              "      <td>United-States</td>\n",
              "      <td>&gt;50K</td>\n",
              "    </tr>\n",
              "    <tr>\n",
              "      <th>32559</th>\n",
              "      <td>22</td>\n",
              "      <td>Private</td>\n",
              "      <td>201490.0</td>\n",
              "      <td>HS-grad</td>\n",
              "      <td>9</td>\n",
              "      <td>Never-married</td>\n",
              "      <td>Adm-clerical</td>\n",
              "      <td>Own-child</td>\n",
              "      <td>White</td>\n",
              "      <td>Male</td>\n",
              "      <td>NaN</td>\n",
              "      <td>NaN</td>\n",
              "      <td>20</td>\n",
              "      <td>United-States</td>\n",
              "      <td>&lt;=50K</td>\n",
              "    </tr>\n",
              "  </tbody>\n",
              "</table>\n",
              "<p>21790 rows × 15 columns</p>\n",
              "</div>"
            ],
            "text/plain": [
              "       age          workclass  ...  native_country gross_income_group\n",
              "0       39          State-gov  ...   United-States              <=50K\n",
              "1       50   Self-emp-not-inc  ...   United-States              <=50K\n",
              "2       38            Private  ...   United-States              <=50K\n",
              "3       53            Private  ...   United-States              <=50K\n",
              "7       52   Self-emp-not-inc  ...   United-States               >50K\n",
              "...    ...                ...  ...             ...                ...\n",
              "32553   32            Private  ...          Taiwan              <=50K\n",
              "32554   53            Private  ...   United-States               >50K\n",
              "32555   22            Private  ...   United-States              <=50K\n",
              "32557   40            Private  ...   United-States               >50K\n",
              "32559   22            Private  ...   United-States              <=50K\n",
              "\n",
              "[21790 rows x 15 columns]"
            ]
          },
          "metadata": {
            "tags": []
          },
          "execution_count": 19
        }
      ]
    },
    {
      "cell_type": "code",
      "metadata": {
        "colab": {
          "base_uri": "https://localhost:8080/",
          "height": 431
        },
        "id": "H-pLr5pOnyiM",
        "outputId": "ad847aab-4b02-45ca-e191-020a28777516"
      },
      "source": [
        "fig, (plt1, plt2) = plt.subplots(1,2)\r\n",
        "plt1.hist(income94m.fnlwgt / 1e5, bins = 10)\r\n",
        "plt1.hist(income94m.fnlwgt / 1e5, bins = 20)\r\n",
        "plt1.hist(income94m.fnlwgt / 1e5, bins = 40)\r\n",
        "plt1.hist(income94m.fnlwgt / 1e5, bins = 80)\r\n",
        "\r\n",
        "plt2.hist(income94f.fnlwgt / 1e5, bins = 10)\r\n",
        "plt2.hist(income94f.fnlwgt / 1e5, bins = 20)\r\n",
        "plt2.hist(income94f.fnlwgt / 1e5, bins = 40)\r\n",
        "plt2.hist(income94f.fnlwgt / 1e5, bins = 80)\r\n",
        "plt.xlabel('fnlwgt / 1e5')\r\n",
        "plt.ylabel('Relative Frequency')\r\n",
        "fig.suptitle('Histogram of fnlwgt between Male (left) and Female (right)')\r\n",
        "fig.set_size_inches(15,6)"
      ],
      "execution_count": 20,
      "outputs": [
        {
          "output_type": "display_data",
          "data": {
            "image/png": "[encoded data removed]",
            "text/plain": [
              "<Figure size 1080x432 with 2 Axes>"
            ]
          },
          "metadata": {
            "tags": [],
            "needs_background": "light"
          }
        }
      ]
    },
    {
      "cell_type": "code",
      "metadata": {
        "colab": {
          "base_uri": "https://localhost:8080/",
          "height": 573
        },
        "id": "_R6JW5vZny7H",
        "outputId": "840f1780-35ce-4acb-f79e-fbb305da1895"
      },
      "source": [
        "sns.boxplot(x = 'fnlwgt', data = income94m)\r\n",
        "plt.title('Box and Whiskers Plot of fnlwgt in Male')\r\n",
        "plt.show()\r\n",
        "sns.boxplot(x = 'fnlwgt', data = income94f)\r\n",
        "plt.title('Box and Whiskers Plot of fnlwgt in Female')\r\n",
        "plt.show()"
      ],
      "execution_count": 21,
      "outputs": [
        {
          "output_type": "display_data",
          "data": {
            "image/png": "[encoded data removed]",
            "text/plain": [
              "<Figure size 432x288 with 1 Axes>"
            ]
          },
          "metadata": {
            "tags": [],
            "needs_background": "light"
          }
        },
        {
          "output_type": "display_data",
          "data": {
            "image/png": "[encoded data removed]",
            "text/plain": [
              "<Figure size 432x288 with 1 Axes>"
            ]
          },
          "metadata": {
            "tags": [],
            "needs_background": "light"
          }
        }
      ]
    },
    {
      "cell_type": "markdown",
      "metadata": {
        "id": "X6KI7wnIKEOY"
      },
      "source": [
        "## **Correlation**"
      ]
    },
    {
      "cell_type": "code",
      "metadata": {
        "colab": {
          "base_uri": "https://localhost:8080/",
          "height": 139
        },
        "id": "4jsBJcB2KNvj",
        "outputId": "8f793c9c-9109-4ea3-aed7-c542b058be38"
      },
      "source": [
        "# making a dataframe so that the correlation table can be better viewed\r\n",
        "income94columns = income94.drop(columns = [\"fnlwgt\", \"capital_gain\", \"capital_loss\"])\r\n",
        "income94corr = income94columns.corr(\"pearson\")\r\n",
        "income94corr"
      ],
      "execution_count": 22,
      "outputs": [
        {
          "output_type": "execute_result",
          "data": {
            "text/html": [
              "<div>\n",
              "<style scoped>\n",
              "    .dataframe tbody tr th:only-of-type {\n",
              "        vertical-align: middle;\n",
              "    }\n",
              "\n",
              "    .dataframe tbody tr th {\n",
              "        vertical-align: top;\n",
              "    }\n",
              "\n",
              "    .dataframe thead th {\n",
              "        text-align: right;\n",
              "    }\n",
              "</style>\n",
              "<table border=\"1\" class=\"dataframe\">\n",
              "  <thead>\n",
              "    <tr style=\"text-align: right;\">\n",
              "      <th></th>\n",
              "      <th>age</th>\n",
              "      <th>education_num</th>\n",
              "      <th>hours_per_week</th>\n",
              "    </tr>\n",
              "  </thead>\n",
              "  <tbody>\n",
              "    <tr>\n",
              "      <th>age</th>\n",
              "      <td>1.000000</td>\n",
              "      <td>0.036527</td>\n",
              "      <td>0.068756</td>\n",
              "    </tr>\n",
              "    <tr>\n",
              "      <th>education_num</th>\n",
              "      <td>0.036527</td>\n",
              "      <td>1.000000</td>\n",
              "      <td>0.148123</td>\n",
              "    </tr>\n",
              "    <tr>\n",
              "      <th>hours_per_week</th>\n",
              "      <td>0.068756</td>\n",
              "      <td>0.148123</td>\n",
              "      <td>1.000000</td>\n",
              "    </tr>\n",
              "  </tbody>\n",
              "</table>\n",
              "</div>"
            ],
            "text/plain": [
              "                     age  education_num  hours_per_week\n",
              "age             1.000000       0.036527        0.068756\n",
              "education_num   0.036527       1.000000        0.148123\n",
              "hours_per_week  0.068756       0.148123        1.000000"
            ]
          },
          "metadata": {
            "tags": []
          },
          "execution_count": 22
        }
      ]
    },
    {
      "cell_type": "code",
      "metadata": {
        "colab": {
          "base_uri": "https://localhost:8080/",
          "height": 550
        },
        "id": "eF0PA3coduao",
        "outputId": "5f338151-3528-420a-c303-441b082ff1f0"
      },
      "source": [
        "# plotting the pairwise pairs of the dataframe\r\n",
        "sns.pairplot(income94[['age', 'education_num', 'hours_per_week']])\r\n",
        "plt.show()"
      ],
      "execution_count": 136,
      "outputs": [
        {
          "output_type": "display_data",
          "data": {
            "image/png": "[encoded data removed]",
            "text/plain": [
              "<Figure size 540x540 with 12 Axes>"
            ]
          },
          "metadata": {
            "tags": [],
            "needs_background": "light"
          }
        }
      ]
    },
    {
      "cell_type": "code",
      "metadata": {
        "colab": {
          "base_uri": "https://localhost:8080/"
        },
        "id": "BdFb-XnSK_Kg",
        "outputId": "ba446569-cc0c-4811-f3f5-029586e973e2"
      },
      "source": [
        "# calculating t value for p-value statistics test.\r\n",
        "from math import *\r\n",
        "n = 32561\r\n",
        "correlation = 0.148123\r\n",
        "val = sqrt(1 - correlation**2)\r\n",
        "t = correlation / val\r\n",
        "t *= sqrt(n-2)\r\n",
        "t"
      ],
      "execution_count": 50,
      "outputs": [
        {
          "output_type": "execute_result",
          "data": {
            "text/plain": [
              "27.025601789036845"
            ]
          },
          "metadata": {
            "tags": []
          },
          "execution_count": 50
        }
      ]
    },
    {
      "cell_type": "code",
      "metadata": {
        "colab": {
          "base_uri": "https://localhost:8080/",
          "height": 139
        },
        "id": "fP4OKFtoSO8P",
        "outputId": "ad99dc6b-66c9-4f14-963f-737ec232efc5"
      },
      "source": [
        "# creating dataframe for male and female and dropping unnecessary columns for better viewing\r\n",
        "income94columnsm = income94m.drop(columns = [\"fnlwgt\", \"capital_gain\", \"capital_loss\"])\r\n",
        "income94columnsf = income94f.drop(columns = [\"fnlwgt\", \"capital_gain\", \"capital_loss\"])\r\n",
        "income94corrm = income94columnsm.corr(\"pearson\")\r\n",
        "income94corrf = income94columnsf.corr(\"pearson\")\r\n",
        "income94corrm"
      ],
      "execution_count": 32,
      "outputs": [
        {
          "output_type": "execute_result",
          "data": {
            "text/html": [
              "<div>\n",
              "<style scoped>\n",
              "    .dataframe tbody tr th:only-of-type {\n",
              "        vertical-align: middle;\n",
              "    }\n",
              "\n",
              "    .dataframe tbody tr th {\n",
              "        vertical-align: top;\n",
              "    }\n",
              "\n",
              "    .dataframe thead th {\n",
              "        text-align: right;\n",
              "    }\n",
              "</style>\n",
              "<table border=\"1\" class=\"dataframe\">\n",
              "  <thead>\n",
              "    <tr style=\"text-align: right;\">\n",
              "      <th></th>\n",
              "      <th>age</th>\n",
              "      <th>education_num</th>\n",
              "      <th>hours_per_week</th>\n",
              "    </tr>\n",
              "  </thead>\n",
              "  <tbody>\n",
              "    <tr>\n",
              "      <th>age</th>\n",
              "      <td>1.000000</td>\n",
              "      <td>0.060486</td>\n",
              "      <td>0.034124</td>\n",
              "    </tr>\n",
              "    <tr>\n",
              "      <th>education_num</th>\n",
              "      <td>0.060486</td>\n",
              "      <td>1.000000</td>\n",
              "      <td>0.136782</td>\n",
              "    </tr>\n",
              "    <tr>\n",
              "      <th>hours_per_week</th>\n",
              "      <td>0.034124</td>\n",
              "      <td>0.136782</td>\n",
              "      <td>1.000000</td>\n",
              "    </tr>\n",
              "  </tbody>\n",
              "</table>\n",
              "</div>"
            ],
            "text/plain": [
              "                     age  education_num  hours_per_week\n",
              "age             1.000000       0.060486        0.034124\n",
              "education_num   0.060486       1.000000        0.136782\n",
              "hours_per_week  0.034124       0.136782        1.000000"
            ]
          },
          "metadata": {
            "tags": []
          },
          "execution_count": 32
        }
      ]
    },
    {
      "cell_type": "code",
      "metadata": {
        "colab": {
          "base_uri": "https://localhost:8080/"
        },
        "id": "A2q24xfP0Vrx",
        "outputId": "ad14bcd6-c5fa-4e32-b283-64b9f68e178f"
      },
      "source": [
        "# calculating t value for p-value statistics test for male\r\n",
        "n = 21790\r\n",
        "correlation = 0.06\r\n",
        "val = sqrt(1 - correlation**2)\r\n",
        "t = correlation / val\r\n",
        "t *= sqrt(n-2)\r\n",
        "t"
      ],
      "execution_count": 51,
      "outputs": [
        {
          "output_type": "execute_result",
          "data": {
            "text/plain": [
              "8.872440064249366"
            ]
          },
          "metadata": {
            "tags": []
          },
          "execution_count": 51
        }
      ]
    },
    {
      "cell_type": "code",
      "metadata": {
        "colab": {
          "base_uri": "https://localhost:8080/",
          "height": 139
        },
        "id": "bVgkeDxzSgw2",
        "outputId": "c67acc18-7f27-4c82-f204-364c67752771"
      },
      "source": [
        "income94corrf"
      ],
      "execution_count": 45,
      "outputs": [
        {
          "output_type": "execute_result",
          "data": {
            "text/html": [
              "<div>\n",
              "<style scoped>\n",
              "    .dataframe tbody tr th:only-of-type {\n",
              "        vertical-align: middle;\n",
              "    }\n",
              "\n",
              "    .dataframe tbody tr th {\n",
              "        vertical-align: top;\n",
              "    }\n",
              "\n",
              "    .dataframe thead th {\n",
              "        text-align: right;\n",
              "    }\n",
              "</style>\n",
              "<table border=\"1\" class=\"dataframe\">\n",
              "  <thead>\n",
              "    <tr style=\"text-align: right;\">\n",
              "      <th></th>\n",
              "      <th>age</th>\n",
              "      <th>education_num</th>\n",
              "      <th>hours_per_week</th>\n",
              "    </tr>\n",
              "  </thead>\n",
              "  <tbody>\n",
              "    <tr>\n",
              "      <th>age</th>\n",
              "      <td>1.000000</td>\n",
              "      <td>-0.017899</td>\n",
              "      <td>0.081257</td>\n",
              "    </tr>\n",
              "    <tr>\n",
              "      <th>education_num</th>\n",
              "      <td>-0.017899</td>\n",
              "      <td>1.000000</td>\n",
              "      <td>0.178749</td>\n",
              "    </tr>\n",
              "    <tr>\n",
              "      <th>hours_per_week</th>\n",
              "      <td>0.081257</td>\n",
              "      <td>0.178749</td>\n",
              "      <td>1.000000</td>\n",
              "    </tr>\n",
              "  </tbody>\n",
              "</table>\n",
              "</div>"
            ],
            "text/plain": [
              "                     age  education_num  hours_per_week\n",
              "age             1.000000      -0.017899        0.081257\n",
              "education_num  -0.017899       1.000000        0.178749\n",
              "hours_per_week  0.081257       0.178749        1.000000"
            ]
          },
          "metadata": {
            "tags": []
          },
          "execution_count": 45
        }
      ]
    },
    {
      "cell_type": "code",
      "metadata": {
        "colab": {
          "base_uri": "https://localhost:8080/"
        },
        "id": "sSh1wN280iML",
        "outputId": "8d21c3bd-11bd-4ad9-8a8a-97a70b9dca9c"
      },
      "source": [
        "# calculating t value for p-value statistics test for female\r\n",
        "n = 10771\r\n",
        "correlation = -0.0178\r\n",
        "val = sqrt(1 - correlation**2)\r\n",
        "t = correlation / val\r\n",
        "t *= sqrt(n-2)\r\n",
        "t"
      ],
      "execution_count": 49,
      "outputs": [
        {
          "output_type": "execute_result",
          "data": {
            "text/plain": [
              "-1.8474662044392975"
            ]
          },
          "metadata": {
            "tags": []
          },
          "execution_count": 49
        }
      ]
    },
    {
      "cell_type": "code",
      "metadata": {
        "colab": {
          "base_uri": "https://localhost:8080/",
          "height": 109
        },
        "id": "b-GmDdCzCH9F",
        "outputId": "a449e2af-7fa2-4fbe-8954-75bc0771bcf5"
      },
      "source": [
        "# dropping the age column for better view.\r\n",
        "income94columns = income94columns.drop(columns = [\"age\"])\r\n",
        "income94columns.cov()"
      ],
      "execution_count": 54,
      "outputs": [
        {
          "output_type": "execute_result",
          "data": {
            "text/html": [
              "<div>\n",
              "<style scoped>\n",
              "    .dataframe tbody tr th:only-of-type {\n",
              "        vertical-align: middle;\n",
              "    }\n",
              "\n",
              "    .dataframe tbody tr th {\n",
              "        vertical-align: top;\n",
              "    }\n",
              "\n",
              "    .dataframe thead th {\n",
              "        text-align: right;\n",
              "    }\n",
              "</style>\n",
              "<table border=\"1\" class=\"dataframe\">\n",
              "  <thead>\n",
              "    <tr style=\"text-align: right;\">\n",
              "      <th></th>\n",
              "      <th>education_num</th>\n",
              "      <th>hours_per_week</th>\n",
              "    </tr>\n",
              "  </thead>\n",
              "  <tbody>\n",
              "    <tr>\n",
              "      <th>education_num</th>\n",
              "      <td>6.618890</td>\n",
              "      <td>4.705338</td>\n",
              "    </tr>\n",
              "    <tr>\n",
              "      <th>hours_per_week</th>\n",
              "      <td>4.705338</td>\n",
              "      <td>152.458995</td>\n",
              "    </tr>\n",
              "  </tbody>\n",
              "</table>\n",
              "</div>"
            ],
            "text/plain": [
              "                education_num  hours_per_week\n",
              "education_num        6.618890        4.705338\n",
              "hours_per_week       4.705338      152.458995"
            ]
          },
          "metadata": {
            "tags": []
          },
          "execution_count": 54
        }
      ]
    },
    {
      "cell_type": "code",
      "metadata": {
        "colab": {
          "base_uri": "https://localhost:8080/",
          "height": 407
        },
        "id": "n2SPhshU-yeP",
        "outputId": "05c41957-df7d-470e-9b74-c1d4bbc467f1"
      },
      "source": [
        "# Creating a weighted dataframe for covariance and variance comparison.\r\n",
        "income94weighted = income94\r\n",
        "income94weighted[\"weighted_hours\"] = income94weighted[\"fnlwgt\"] * income94weighted[\"hours_per_week\"] / income94.fnlwgt.median()\r\n",
        "income94weighted"
      ],
      "execution_count": 58,
      "outputs": [
        {
          "output_type": "execute_result",
          "data": {
            "text/html": [
              "<div>\n",
              "<style scoped>\n",
              "    .dataframe tbody tr th:only-of-type {\n",
              "        vertical-align: middle;\n",
              "    }\n",
              "\n",
              "    .dataframe tbody tr th {\n",
              "        vertical-align: top;\n",
              "    }\n",
              "\n",
              "    .dataframe thead th {\n",
              "        text-align: right;\n",
              "    }\n",
              "</style>\n",
              "<table border=\"1\" class=\"dataframe\">\n",
              "  <thead>\n",
              "    <tr style=\"text-align: right;\">\n",
              "      <th></th>\n",
              "      <th>age</th>\n",
              "      <th>workclass</th>\n",
              "      <th>fnlwgt</th>\n",
              "      <th>education</th>\n",
              "      <th>education_num</th>\n",
              "      <th>marital_status</th>\n",
              "      <th>occupation</th>\n",
              "      <th>relationship</th>\n",
              "      <th>race</th>\n",
              "      <th>sex</th>\n",
              "      <th>capital_gain</th>\n",
              "      <th>capital_loss</th>\n",
              "      <th>hours_per_week</th>\n",
              "      <th>native_country</th>\n",
              "      <th>gross_income_group</th>\n",
              "      <th>weighted_hours</th>\n",
              "    </tr>\n",
              "  </thead>\n",
              "  <tbody>\n",
              "    <tr>\n",
              "      <th>0</th>\n",
              "      <td>39</td>\n",
              "      <td>State-gov</td>\n",
              "      <td>77516.0</td>\n",
              "      <td>Bachelors</td>\n",
              "      <td>13</td>\n",
              "      <td>Never-married</td>\n",
              "      <td>Adm-clerical</td>\n",
              "      <td>Not-in-family</td>\n",
              "      <td>White</td>\n",
              "      <td>Male</td>\n",
              "      <td>2174.0</td>\n",
              "      <td>NaN</td>\n",
              "      <td>40</td>\n",
              "      <td>United-States</td>\n",
              "      <td>&lt;=50K</td>\n",
              "      <td>17.694485</td>\n",
              "    </tr>\n",
              "    <tr>\n",
              "      <th>1</th>\n",
              "      <td>50</td>\n",
              "      <td>Self-emp-not-inc</td>\n",
              "      <td>83311.0</td>\n",
              "      <td>Bachelors</td>\n",
              "      <td>13</td>\n",
              "      <td>Married-civ-spouse</td>\n",
              "      <td>Exec-managerial</td>\n",
              "      <td>Husband</td>\n",
              "      <td>White</td>\n",
              "      <td>Male</td>\n",
              "      <td>NaN</td>\n",
              "      <td>NaN</td>\n",
              "      <td>13</td>\n",
              "      <td>United-States</td>\n",
              "      <td>&lt;=50K</td>\n",
              "      <td>6.180623</td>\n",
              "    </tr>\n",
              "    <tr>\n",
              "      <th>2</th>\n",
              "      <td>38</td>\n",
              "      <td>Private</td>\n",
              "      <td>215646.0</td>\n",
              "      <td>HS-grad</td>\n",
              "      <td>9</td>\n",
              "      <td>Divorced</td>\n",
              "      <td>Handlers-cleaners</td>\n",
              "      <td>Not-in-family</td>\n",
              "      <td>White</td>\n",
              "      <td>Male</td>\n",
              "      <td>NaN</td>\n",
              "      <td>NaN</td>\n",
              "      <td>40</td>\n",
              "      <td>United-States</td>\n",
              "      <td>&lt;=50K</td>\n",
              "      <td>49.225256</td>\n",
              "    </tr>\n",
              "    <tr>\n",
              "      <th>3</th>\n",
              "      <td>53</td>\n",
              "      <td>Private</td>\n",
              "      <td>234721.0</td>\n",
              "      <td>11th</td>\n",
              "      <td>7</td>\n",
              "      <td>Married-civ-spouse</td>\n",
              "      <td>Handlers-cleaners</td>\n",
              "      <td>Husband</td>\n",
              "      <td>Black</td>\n",
              "      <td>Male</td>\n",
              "      <td>NaN</td>\n",
              "      <td>NaN</td>\n",
              "      <td>40</td>\n",
              "      <td>United-States</td>\n",
              "      <td>&lt;=50K</td>\n",
              "      <td>53.579483</td>\n",
              "    </tr>\n",
              "    <tr>\n",
              "      <th>4</th>\n",
              "      <td>28</td>\n",
              "      <td>Private</td>\n",
              "      <td>338409.0</td>\n",
              "      <td>Bachelors</td>\n",
              "      <td>13</td>\n",
              "      <td>Married-civ-spouse</td>\n",
              "      <td>Prof-specialty</td>\n",
              "      <td>Wife</td>\n",
              "      <td>Black</td>\n",
              "      <td>Female</td>\n",
              "      <td>NaN</td>\n",
              "      <td>NaN</td>\n",
              "      <td>40</td>\n",
              "      <td>Cuba</td>\n",
              "      <td>&lt;=50K</td>\n",
              "      <td>77.248220</td>\n",
              "    </tr>\n",
              "    <tr>\n",
              "      <th>...</th>\n",
              "      <td>...</td>\n",
              "      <td>...</td>\n",
              "      <td>...</td>\n",
              "      <td>...</td>\n",
              "      <td>...</td>\n",
              "      <td>...</td>\n",
              "      <td>...</td>\n",
              "      <td>...</td>\n",
              "      <td>...</td>\n",
              "      <td>...</td>\n",
              "      <td>...</td>\n",
              "      <td>...</td>\n",
              "      <td>...</td>\n",
              "      <td>...</td>\n",
              "      <td>...</td>\n",
              "      <td>...</td>\n",
              "    </tr>\n",
              "    <tr>\n",
              "      <th>32556</th>\n",
              "      <td>27</td>\n",
              "      <td>Private</td>\n",
              "      <td>257302.0</td>\n",
              "      <td>Assoc-acdm</td>\n",
              "      <td>12</td>\n",
              "      <td>Married-civ-spouse</td>\n",
              "      <td>Tech-support</td>\n",
              "      <td>Wife</td>\n",
              "      <td>White</td>\n",
              "      <td>Female</td>\n",
              "      <td>NaN</td>\n",
              "      <td>NaN</td>\n",
              "      <td>38</td>\n",
              "      <td>United-States</td>\n",
              "      <td>&lt;=50K</td>\n",
              "      <td>55.797320</td>\n",
              "    </tr>\n",
              "    <tr>\n",
              "      <th>32557</th>\n",
              "      <td>40</td>\n",
              "      <td>Private</td>\n",
              "      <td>154374.0</td>\n",
              "      <td>HS-grad</td>\n",
              "      <td>9</td>\n",
              "      <td>Married-civ-spouse</td>\n",
              "      <td>Machine-op-inspct</td>\n",
              "      <td>Husband</td>\n",
              "      <td>White</td>\n",
              "      <td>Male</td>\n",
              "      <td>NaN</td>\n",
              "      <td>NaN</td>\n",
              "      <td>40</td>\n",
              "      <td>United-States</td>\n",
              "      <td>&gt;50K</td>\n",
              "      <td>35.238769</td>\n",
              "    </tr>\n",
              "    <tr>\n",
              "      <th>32558</th>\n",
              "      <td>58</td>\n",
              "      <td>Private</td>\n",
              "      <td>151910.0</td>\n",
              "      <td>HS-grad</td>\n",
              "      <td>9</td>\n",
              "      <td>Widowed</td>\n",
              "      <td>Adm-clerical</td>\n",
              "      <td>Unmarried</td>\n",
              "      <td>White</td>\n",
              "      <td>Female</td>\n",
              "      <td>NaN</td>\n",
              "      <td>NaN</td>\n",
              "      <td>40</td>\n",
              "      <td>United-States</td>\n",
              "      <td>&lt;=50K</td>\n",
              "      <td>34.676315</td>\n",
              "    </tr>\n",
              "    <tr>\n",
              "      <th>32559</th>\n",
              "      <td>22</td>\n",
              "      <td>Private</td>\n",
              "      <td>201490.0</td>\n",
              "      <td>HS-grad</td>\n",
              "      <td>9</td>\n",
              "      <td>Never-married</td>\n",
              "      <td>Adm-clerical</td>\n",
              "      <td>Own-child</td>\n",
              "      <td>White</td>\n",
              "      <td>Male</td>\n",
              "      <td>NaN</td>\n",
              "      <td>NaN</td>\n",
              "      <td>20</td>\n",
              "      <td>United-States</td>\n",
              "      <td>&lt;=50K</td>\n",
              "      <td>22.996941</td>\n",
              "    </tr>\n",
              "    <tr>\n",
              "      <th>32560</th>\n",
              "      <td>52</td>\n",
              "      <td>Self-emp-inc</td>\n",
              "      <td>287927.0</td>\n",
              "      <td>HS-grad</td>\n",
              "      <td>9</td>\n",
              "      <td>Married-civ-spouse</td>\n",
              "      <td>Exec-managerial</td>\n",
              "      <td>Wife</td>\n",
              "      <td>White</td>\n",
              "      <td>Female</td>\n",
              "      <td>15024.0</td>\n",
              "      <td>NaN</td>\n",
              "      <td>40</td>\n",
              "      <td>United-States</td>\n",
              "      <td>&gt;50K</td>\n",
              "      <td>65.724753</td>\n",
              "    </tr>\n",
              "  </tbody>\n",
              "</table>\n",
              "<p>32561 rows × 16 columns</p>\n",
              "</div>"
            ],
            "text/plain": [
              "       age          workclass  ...  gross_income_group weighted_hours\n",
              "0       39          State-gov  ...               <=50K      17.694485\n",
              "1       50   Self-emp-not-inc  ...               <=50K       6.180623\n",
              "2       38            Private  ...               <=50K      49.225256\n",
              "3       53            Private  ...               <=50K      53.579483\n",
              "4       28            Private  ...               <=50K      77.248220\n",
              "...    ...                ...  ...                 ...            ...\n",
              "32556   27            Private  ...               <=50K      55.797320\n",
              "32557   40            Private  ...                >50K      35.238769\n",
              "32558   58            Private  ...               <=50K      34.676315\n",
              "32559   22            Private  ...               <=50K      22.996941\n",
              "32560   52       Self-emp-inc  ...                >50K      65.724753\n",
              "\n",
              "[32561 rows x 16 columns]"
            ]
          },
          "metadata": {
            "tags": []
          },
          "execution_count": 58
        }
      ]
    },
    {
      "cell_type": "code",
      "metadata": {
        "colab": {
          "base_uri": "https://localhost:8080/",
          "height": 109
        },
        "id": "TmeNu4xdAYuo",
        "outputId": "5e3f068b-6e9b-4fd8-b49a-07bbcd7c121d"
      },
      "source": [
        "# Filtering out columns for better view\r\n",
        "income94columnsweighted =  income94weighted.drop(columns = [\"fnlwgt\", \"capital_gain\", \"capital_loss\", \"age\", \"hours_per_week\"])\r\n",
        "income94columnsweighted.cov()"
      ],
      "execution_count": 57,
      "outputs": [
        {
          "output_type": "execute_result",
          "data": {
            "text/html": [
              "<div>\n",
              "<style scoped>\n",
              "    .dataframe tbody tr th:only-of-type {\n",
              "        vertical-align: middle;\n",
              "    }\n",
              "\n",
              "    .dataframe tbody tr th {\n",
              "        vertical-align: top;\n",
              "    }\n",
              "\n",
              "    .dataframe thead th {\n",
              "        text-align: right;\n",
              "    }\n",
              "</style>\n",
              "<table border=\"1\" class=\"dataframe\">\n",
              "  <thead>\n",
              "    <tr style=\"text-align: right;\">\n",
              "      <th></th>\n",
              "      <th>education_num</th>\n",
              "      <th>weighted_hours</th>\n",
              "    </tr>\n",
              "  </thead>\n",
              "  <tbody>\n",
              "    <tr>\n",
              "      <th>education_num</th>\n",
              "      <td>6.618890</td>\n",
              "      <td>3.163654</td>\n",
              "    </tr>\n",
              "    <tr>\n",
              "      <th>weighted_hours</th>\n",
              "      <td>3.163654</td>\n",
              "      <td>550.177754</td>\n",
              "    </tr>\n",
              "  </tbody>\n",
              "</table>\n",
              "</div>"
            ],
            "text/plain": [
              "                education_num  weighted_hours\n",
              "education_num        6.618890        3.163654\n",
              "weighted_hours       3.163654      550.177754"
            ]
          },
          "metadata": {
            "tags": []
          },
          "execution_count": 57
        }
      ]
    },
    {
      "cell_type": "code",
      "metadata": {
        "colab": {
          "base_uri": "https://localhost:8080/",
          "height": 109
        },
        "id": "39R9zWL6ACvp",
        "outputId": "0e328daa-c846-4e8a-8863-de006862755d"
      },
      "source": [
        "income94columnsweighted.corr()"
      ],
      "execution_count": 59,
      "outputs": [
        {
          "output_type": "execute_result",
          "data": {
            "text/html": [
              "<div>\n",
              "<style scoped>\n",
              "    .dataframe tbody tr th:only-of-type {\n",
              "        vertical-align: middle;\n",
              "    }\n",
              "\n",
              "    .dataframe tbody tr th {\n",
              "        vertical-align: top;\n",
              "    }\n",
              "\n",
              "    .dataframe thead th {\n",
              "        text-align: right;\n",
              "    }\n",
              "</style>\n",
              "<table border=\"1\" class=\"dataframe\">\n",
              "  <thead>\n",
              "    <tr style=\"text-align: right;\">\n",
              "      <th></th>\n",
              "      <th>education_num</th>\n",
              "      <th>weighted_hours</th>\n",
              "    </tr>\n",
              "  </thead>\n",
              "  <tbody>\n",
              "    <tr>\n",
              "      <th>education_num</th>\n",
              "      <td>1.000000</td>\n",
              "      <td>0.052672</td>\n",
              "    </tr>\n",
              "    <tr>\n",
              "      <th>weighted_hours</th>\n",
              "      <td>0.052672</td>\n",
              "      <td>1.000000</td>\n",
              "    </tr>\n",
              "  </tbody>\n",
              "</table>\n",
              "</div>"
            ],
            "text/plain": [
              "                education_num  weighted_hours\n",
              "education_num        1.000000        0.052672\n",
              "weighted_hours       0.052672        1.000000"
            ]
          },
          "metadata": {
            "tags": []
          },
          "execution_count": 59
        }
      ]
    },
    {
      "cell_type": "code",
      "metadata": {
        "colab": {
          "base_uri": "https://localhost:8080/",
          "height": 444
        },
        "id": "xH3mJ0mtDoo5",
        "outputId": "df87d855-c380-4879-f4e9-11abab651f6d"
      },
      "source": [
        "plt.hist(income94columns[\"hours_per_week\"], bins = 20)\r\n",
        "plt.title('Histogram of hours_per_week')\r\n",
        "plt.xlabel('hours_per_week')\r\n",
        "plt.ylabel('Relative Frequency')\r\n",
        "plt.show()\r\n",
        "income94columns[\"hours_per_week\"].describe()"
      ],
      "execution_count": 96,
      "outputs": [
        {
          "output_type": "display_data",
          "data": {
            "image/png": "[encoded data removed]",
            "text/plain": [
              "<Figure size 432x288 with 1 Axes>"
            ]
          },
          "metadata": {
            "tags": [],
            "needs_background": "light"
          }
        },
        {
          "output_type": "execute_result",
          "data": {
            "text/plain": [
              "count    32561.000000\n",
              "mean        40.437456\n",
              "std         12.347429\n",
              "min          1.000000\n",
              "25%         40.000000\n",
              "50%         40.000000\n",
              "75%         45.000000\n",
              "max         99.000000\n",
              "Name: hours_per_week, dtype: float64"
            ]
          },
          "metadata": {
            "tags": []
          },
          "execution_count": 96
        }
      ]
    },
    {
      "cell_type": "code",
      "metadata": {
        "colab": {
          "base_uri": "https://localhost:8080/",
          "height": 444
        },
        "id": "SYSYnBNkA2vj",
        "outputId": "e6bcac9a-6a0e-4e45-9e5e-b89e12fe403f"
      },
      "source": [
        "plt.hist(income94columnsweighted[\"weighted_hours\"] , bins = 20)\r\n",
        "plt.title('Histogram of weighted_hours')\r\n",
        "plt.xlabel('weighted_hours')\r\n",
        "plt.ylabel('Relative Frequency')\r\n",
        "plt.show()\r\n",
        "income94columnsweighted[\"weighted_hours\"].describe()"
      ],
      "execution_count": 97,
      "outputs": [
        {
          "output_type": "display_data",
          "data": {
            "image/png": "[encoded data removed]",
            "text/plain": [
              "<Figure size 432x288 with 1 Axes>"
            ]
          },
          "metadata": {
            "tags": [],
            "needs_background": "light"
          }
        },
        {
          "output_type": "execute_result",
          "data": {
            "text/plain": [
              "count    31264.000000\n",
              "mean        40.361873\n",
              "std         23.455868\n",
              "min          0.318343\n",
              "25%         23.370939\n",
              "50%         38.235970\n",
              "75%         53.081753\n",
              "max        217.826105\n",
              "Name: weighted_hours, dtype: float64"
            ]
          },
          "metadata": {
            "tags": []
          },
          "execution_count": 97
        }
      ]
    },
    {
      "cell_type": "markdown",
      "metadata": {
        "id": "TTBC6Cz6tDl0"
      },
      "source": [
        "## **Regression**"
      ]
    },
    {
      "cell_type": "code",
      "metadata": {
        "colab": {
          "base_uri": "https://localhost:8080/"
        },
        "id": "Fq_ViZ-HtHis",
        "outputId": "ef917d1a-d4a7-4b2f-b93d-958a02ba2bd1"
      },
      "source": [
        "# Creating 1 independent variable linear regression with OLS method\r\n",
        "reg1 = smf.ols('hours_per_week ~ sex', data = income94).fit()\r\n",
        "print(reg1.summary())"
      ],
      "execution_count": 90,
      "outputs": [
        {
          "output_type": "stream",
          "text": [
            "                            OLS Regression Results                            \n",
            "==============================================================================\n",
            "Dep. Variable:         hours_per_week   R-squared:                       0.053\n",
            "Model:                            OLS   Adj. R-squared:                  0.053\n",
            "Method:                 Least Squares   F-statistic:                     1807.\n",
            "Date:                Mon, 08 Feb 2021   Prob (F-statistic):               0.00\n",
            "Time:                        04:58:44   Log-Likelihood:            -1.2716e+05\n",
            "No. Observations:               32561   AIC:                         2.543e+05\n",
            "Df Residuals:                   32559   BIC:                         2.543e+05\n",
            "Df Model:                           1                                         \n",
            "Covariance Type:            nonrobust                                         \n",
            "================================================================================\n",
            "                   coef    std err          t      P>|t|      [0.025      0.975]\n",
            "--------------------------------------------------------------------------------\n",
            "Intercept       36.4104      0.116    314.412      0.000      36.183      36.637\n",
            "sex[T. Male]     6.0177      0.142     42.510      0.000       5.740       6.295\n",
            "==============================================================================\n",
            "Omnibus:                     2649.390   Durbin-Watson:                   2.019\n",
            "Prob(Omnibus):                  0.000   Jarque-Bera (JB):            13090.867\n",
            "Skew:                           0.239   Prob(JB):                         0.00\n",
            "Kurtosis:                       6.069   Cond. No.                         3.24\n",
            "==============================================================================\n",
            "\n",
            "Warnings:\n",
            "[1] Standard Errors assume that the covariance matrix of the errors is correctly specified.\n"
          ],
          "name": "stdout"
        }
      ]
    },
    {
      "cell_type": "code",
      "metadata": {
        "colab": {
          "base_uri": "https://localhost:8080/",
          "height": 293
        },
        "id": "kC1VTPfSSVtx",
        "outputId": "b158678e-2edc-4c23-8e3c-7b398021474e"
      },
      "source": [
        "# Graph for review and making sure the equation is as expected.\r\n",
        "fig = sm.graphics.plot_partregress_grid(reg1)\r\n",
        "fig.tight_layout(pad=2.0)"
      ],
      "execution_count": 102,
      "outputs": [
        {
          "output_type": "display_data",
          "data": {
            "image/png": "[encoded data removed]",
            "text/plain": [
              "<Figure size 432x288 with 2 Axes>"
            ]
          },
          "metadata": {
            "tags": [],
            "needs_background": "light"
          }
        }
      ]
    },
    {
      "cell_type": "code",
      "metadata": {
        "colab": {
          "base_uri": "https://localhost:8080/"
        },
        "id": "1mrGTpMuSaPW",
        "outputId": "59e95b7f-c11b-45f1-bd99-e61ec0eb7ec4"
      },
      "source": [
        "# Creating 2 independent variable linear regression with OLS method\r\n",
        "reg2 = smf.ols('hours_per_week ~ sex + education_num', data = income94).fit()\r\n",
        "print(reg2.summary())"
      ],
      "execution_count": 91,
      "outputs": [
        {
          "output_type": "stream",
          "text": [
            "                            OLS Regression Results                            \n",
            "==============================================================================\n",
            "Dep. Variable:         hours_per_week   R-squared:                       0.074\n",
            "Model:                            OLS   Adj. R-squared:                  0.074\n",
            "Method:                 Least Squares   F-statistic:                     1295.\n",
            "Date:                Mon, 08 Feb 2021   Prob (F-statistic):               0.00\n",
            "Time:                        04:58:46   Log-Likelihood:            -1.2680e+05\n",
            "No. Observations:               32561   AIC:                         2.536e+05\n",
            "Df Residuals:                   32558   BIC:                         2.536e+05\n",
            "Df Model:                           2                                         \n",
            "Covariance Type:            nonrobust                                         \n",
            "=================================================================================\n",
            "                    coef    std err          t      P>|t|      [0.025      0.975]\n",
            "---------------------------------------------------------------------------------\n",
            "Intercept        29.4106      0.281    104.556      0.000      28.859      29.962\n",
            "sex[T. Male]      5.9709      0.140     42.653      0.000       5.697       6.245\n",
            "education_num     0.6975      0.026     27.244      0.000       0.647       0.748\n",
            "==============================================================================\n",
            "Omnibus:                     2783.881   Durbin-Watson:                   2.018\n",
            "Prob(Omnibus):                  0.000   Jarque-Bera (JB):            14492.060\n",
            "Skew:                           0.247   Prob(JB):                         0.00\n",
            "Kurtosis:                       6.231   Cond. No.                         45.6\n",
            "==============================================================================\n",
            "\n",
            "Warnings:\n",
            "[1] Standard Errors assume that the covariance matrix of the errors is correctly specified.\n"
          ],
          "name": "stdout"
        }
      ]
    },
    {
      "cell_type": "code",
      "metadata": {
        "colab": {
          "base_uri": "https://localhost:8080/",
          "height": 293
        },
        "id": "-coctEiJQ5rL",
        "outputId": "ff3163d3-6381-4504-8104-13cddd311d16"
      },
      "source": [
        "# Graph for review and making sure the equation is as expected.\r\n",
        "fig = sm.graphics.plot_partregress_grid(reg2)\r\n",
        "fig.tight_layout(pad=2.0)"
      ],
      "execution_count": 92,
      "outputs": [
        {
          "output_type": "display_data",
          "data": {
            "image/png": "[encoded data removed]",
            "text/plain": [
              "<Figure size 432x288 with 3 Axes>"
            ]
          },
          "metadata": {
            "tags": [],
            "needs_background": "light"
          }
        }
      ]
    },
    {
      "cell_type": "code",
      "metadata": {
        "colab": {
          "base_uri": "https://localhost:8080/"
        },
        "id": "jAbyaZjoZWEZ",
        "outputId": "24aab118-23b0-4ed8-f489-1708a7a4e87c"
      },
      "source": [
        "# Creating 3 independent variable linear regression with OLS method\r\n",
        "reg3 = smf.ols('hours_per_week ~ sex + education_num + gross_income_group', data = income94).fit()\r\n",
        "print(reg3.summary())"
      ],
      "execution_count": 94,
      "outputs": [
        {
          "output_type": "stream",
          "text": [
            "                            OLS Regression Results                            \n",
            "==============================================================================\n",
            "Dep. Variable:         hours_per_week   R-squared:                       0.094\n",
            "Model:                            OLS   Adj. R-squared:                  0.094\n",
            "Method:                 Least Squares   F-statistic:                     1130.\n",
            "Date:                Mon, 08 Feb 2021   Prob (F-statistic):               0.00\n",
            "Time:                        04:58:57   Log-Likelihood:            -1.2643e+05\n",
            "No. Observations:               32561   AIC:                         2.529e+05\n",
            "Df Residuals:                   32557   BIC:                         2.529e+05\n",
            "Df Model:                           3                                         \n",
            "Covariance Type:            nonrobust                                         \n",
            "===============================================================================================\n",
            "                                  coef    std err          t      P>|t|      [0.025      0.975]\n",
            "-----------------------------------------------------------------------------------------------\n",
            "Intercept                      31.4218      0.288    109.184      0.000      30.858      31.986\n",
            "sex[T. Male]                    5.1010      0.142     35.907      0.000       4.823       5.379\n",
            "gross_income_group[T. >50K]     4.5175      0.166     27.229      0.000       4.192       4.843\n",
            "education_num                   0.4478      0.027     16.632      0.000       0.395       0.501\n",
            "==============================================================================\n",
            "Omnibus:                     2984.190   Durbin-Watson:                   2.015\n",
            "Prob(Omnibus):                  0.000   Jarque-Bera (JB):            15467.160\n",
            "Skew:                           0.296   Prob(JB):                         0.00\n",
            "Kurtosis:                       6.324   Cond. No.                         48.1\n",
            "==============================================================================\n",
            "\n",
            "Warnings:\n",
            "[1] Standard Errors assume that the covariance matrix of the errors is correctly specified.\n"
          ],
          "name": "stdout"
        }
      ]
    },
    {
      "cell_type": "code",
      "metadata": {
        "colab": {
          "base_uri": "https://localhost:8080/",
          "height": 293
        },
        "id": "MuovSw6pSOyS",
        "outputId": "74d40a9b-e22c-4e7d-97db-11f145d3192b"
      },
      "source": [
        "# Graph for review and making sure the equation is as expected.\r\n",
        "fig = sm.graphics.plot_partregress_grid(reg3)\r\n",
        "fig.tight_layout(pad=2.0)"
      ],
      "execution_count": 101,
      "outputs": [
        {
          "output_type": "display_data",
          "data": {
            "image/png": "[encoded data removed]",
            "text/plain": [
              "<Figure size 432x288 with 4 Axes>"
            ]
          },
          "metadata": {
            "tags": [],
            "needs_background": "light"
          }
        }
      ]
    }
  ]
}